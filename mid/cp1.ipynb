{
  "nbformat": 4,
  "nbformat_minor": 0,
  "metadata": {
    "colab": {
      "provenance": []
    },
    "kernelspec": {
      "name": "python3",
      "display_name": "Python 3"
    },
    "language_info": {
      "name": "python"
    }
  },
  "cells": [
    {
      "cell_type": "markdown",
      "source": [
        "**List Operations:**"
      ],
      "metadata": {
        "id": "1JRLuAznwqNZ"
      }
    },
    {
      "cell_type": "markdown",
      "source": [
        "> Create a list of integers containing numbers from 1 to 10."
      ],
      "metadata": {
        "id": "H6if1Y5oxKV3"
      }
    },
    {
      "cell_type": "code",
      "source": [
        "List = [1,2,3,4,5,6,7,8,9, 10]\n",
        "print(List)"
      ],
      "metadata": {
        "colab": {
          "base_uri": "https://localhost:8080/"
        },
        "id": "UPevWCjVytPd",
        "outputId": "58441ebb-3d95-4897-9be8-8c19cc67f6e8"
      },
      "execution_count": 2,
      "outputs": [
        {
          "output_type": "stream",
          "name": "stdout",
          "text": [
            "[1, 2, 3, 4, 5, 6, 7, 8, 9, 10]\n"
          ]
        }
      ]
    },
    {
      "cell_type": "markdown",
      "source": [
        "> Append the square of each number to the list."
      ],
      "metadata": {
        "id": "f6wuQvx_xZT7"
      }
    },
    {
      "cell_type": "code",
      "source": [
        "for num in List[:]:\n",
        "    List.append(num ** 2)\n",
        "\n",
        "print(\"List : \", List)"
      ],
      "metadata": {
        "colab": {
          "base_uri": "https://localhost:8080/"
        },
        "id": "TORNOnyxzraA",
        "outputId": "438d7f20-5c59-4733-b435-ca6a9cd9c1a7"
      },
      "execution_count": 3,
      "outputs": [
        {
          "output_type": "stream",
          "name": "stdout",
          "text": [
            "List :  [1, 2, 3, 4, 5, 6, 7, 8, 9, 10, 1, 4, 9, 16, 25, 36, 49, 64, 81, 100]\n"
          ]
        }
      ]
    },
    {
      "cell_type": "markdown",
      "source": [
        "> Find and print the sum of all elements in the list."
      ],
      "metadata": {
        "id": "a1gHCejCxaUq"
      }
    },
    {
      "cell_type": "code",
      "execution_count": 4,
      "metadata": {
        "colab": {
          "base_uri": "https://localhost:8080/"
        },
        "id": "L1HxhutMwZsM",
        "outputId": "d81d2cce-bb69-4b90-e22b-d5d942e4715c"
      },
      "outputs": [
        {
          "output_type": "stream",
          "name": "stdout",
          "text": [
            "Sum of all elements in the list: 440\n"
          ]
        }
      ],
      "source": [
        "sumOfElements = sum(List)\n",
        "print(\"Sum of all elements in the list:\", sumOfElements)"
      ]
    },
    {
      "cell_type": "markdown",
      "source": [
        "**Tuple Operations:**"
      ],
      "metadata": {
        "id": "0IjnqOvBwyq5"
      }
    },
    {
      "cell_type": "markdown",
      "source": [
        "> Create a tuple containing the first five even numbers."
      ],
      "metadata": {
        "id": "tKfhPd4hxdXB"
      }
    },
    {
      "cell_type": "code",
      "source": [
        "touple = (2,4,6,8,10)\n",
        "print(touple)"
      ],
      "metadata": {
        "colab": {
          "base_uri": "https://localhost:8080/"
        },
        "id": "piQTo8jK0cHx",
        "outputId": "f4b02cd0-9517-4a20-c815-33bee30250f1"
      },
      "execution_count": 5,
      "outputs": [
        {
          "output_type": "stream",
          "name": "stdout",
          "text": [
            "(2, 4, 6, 8, 10)\n"
          ]
        }
      ]
    },
    {
      "cell_type": "markdown",
      "source": [
        "> Find and print the product of all elements in the tuple."
      ],
      "metadata": {
        "id": "sYmiVKRexXpE"
      }
    },
    {
      "cell_type": "code",
      "source": [
        "product = 1\n",
        "for num in touple:\n",
        "  product *= num\n",
        "print(\"Product of all elements in the tuple:\", product)"
      ],
      "metadata": {
        "colab": {
          "base_uri": "https://localhost:8080/"
        },
        "id": "WReNUgmT0qcG",
        "outputId": "771799d3-74f8-42da-c2f9-1de92fb1b121"
      },
      "execution_count": 6,
      "outputs": [
        {
          "output_type": "stream",
          "name": "stdout",
          "text": [
            "Product of all elements in the tuple: 3840\n"
          ]
        }
      ]
    },
    {
      "cell_type": "markdown",
      "source": [
        "**Set Operations:**"
      ],
      "metadata": {
        "id": "6Y6B4-NCw0_y"
      }
    },
    {
      "cell_type": "markdown",
      "source": [
        "> Create two sets of odd numbers between 1 to 10."
      ],
      "metadata": {
        "id": "s-dFtEpRxgQc"
      }
    },
    {
      "cell_type": "code",
      "source": [
        "set1 = {1, 3,5,7,9}\n",
        "set2 = {1, 3,5,7,9}"
      ],
      "metadata": {
        "id": "lhDZJwqG1CGE"
      },
      "execution_count": 8,
      "outputs": []
    },
    {
      "cell_type": "markdown",
      "source": [
        "> Find and print the union of the two sets."
      ],
      "metadata": {
        "id": "mBIxmpZ0xgy0"
      }
    },
    {
      "cell_type": "code",
      "source": [
        "union_set = set1.union(set2)\n",
        "print(\"unionSet : \", union_set)"
      ],
      "metadata": {
        "colab": {
          "base_uri": "https://localhost:8080/"
        },
        "id": "cOsVCM9w1QWv",
        "outputId": "edb7139b-902a-47b4-81c6-b6439eea45ae"
      },
      "execution_count": 10,
      "outputs": [
        {
          "output_type": "stream",
          "name": "stdout",
          "text": [
            "unionSet :  {1, 3, 5, 7, 9}\n"
          ]
        }
      ]
    },
    {
      "cell_type": "markdown",
      "source": [
        "> Find and print the intersection of the two sets."
      ],
      "metadata": {
        "id": "z1GBSE3IxhWU"
      }
    },
    {
      "cell_type": "code",
      "source": [
        "intersection_set  = set1.intersection(set2)\n",
        "print(\"intersectionSet : \", intersection_set )"
      ],
      "metadata": {
        "colab": {
          "base_uri": "https://localhost:8080/"
        },
        "id": "k_ylSNVD1qK3",
        "outputId": "79e06bbf-d3a4-4d25-957f-0b3d7ec40e0b"
      },
      "execution_count": 12,
      "outputs": [
        {
          "output_type": "stream",
          "name": "stdout",
          "text": [
            "intersectionSet :  {1, 3, 5, 7, 9}\n"
          ]
        }
      ]
    },
    {
      "cell_type": "markdown",
      "source": [
        "**Dictionary Operations:**"
      ],
      "metadata": {
        "id": "iUs49_L3w6Ad"
      }
    },
    {
      "cell_type": "markdown",
      "source": [
        "> Create a dictionary where keys are the first five lowercase alphabets and values are their respective ASCII values."
      ],
      "metadata": {
        "id": "oo55QIkRxjWm"
      }
    },
    {
      "cell_type": "markdown",
      "source": [
        "> Print the dictionary."
      ],
      "metadata": {
        "id": "bMe_pKG5xjwd"
      }
    },
    {
      "cell_type": "markdown",
      "source": [
        "**Functional Programming:**"
      ],
      "metadata": {
        "id": "dj9V93GPw-MG"
      }
    },
    {
      "cell_type": "markdown",
      "source": [
        "> Define a function square(x) that returns the square of x."
      ],
      "metadata": {
        "id": "jdtyvtCLxlgu"
      }
    },
    {
      "cell_type": "code",
      "source": [
        "def square(x):\n",
        "  return x ** 2\n"
      ],
      "metadata": {
        "id": "bSkY4jmP2k4T"
      },
      "execution_count": 14,
      "outputs": []
    },
    {
      "cell_type": "markdown",
      "source": [
        "> Use the map function to apply the square function to each element in a list of integers from 1 to 10 and print the result."
      ],
      "metadata": {
        "id": "FN9PqpTyxl9X"
      }
    },
    {
      "cell_type": "code",
      "source": [
        "result = map(square, List)\n",
        "print(\"Squared list of numbers from 1 to 10:\", list(result))"
      ],
      "metadata": {
        "colab": {
          "base_uri": "https://localhost:8080/"
        },
        "id": "JYUtBZn_22Bk",
        "outputId": "b9fcc10d-8801-4cbf-e220-05363318715a"
      },
      "execution_count": 16,
      "outputs": [
        {
          "output_type": "stream",
          "name": "stdout",
          "text": [
            "Squared list of numbers from 1 to 10: [1, 4, 9, 16, 25, 36, 49, 64, 81, 100, 1, 16, 81, 256, 625, 1296, 2401, 4096, 6561, 10000]\n"
          ]
        }
      ]
    }
  ]
}